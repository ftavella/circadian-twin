{
 "cells": [
  {
   "attachments": {},
   "cell_type": "markdown",
   "metadata": {},
   "source": [
    "# Circadian rhythm disruptions"
   ]
  },
  {
   "cell_type": "code",
   "execution_count": null,
   "metadata": {},
   "outputs": [],
   "source": [
    "#| hide\n",
    "import numpy as np\n",
    "import matplotlib.pyplot as plt\n",
    "from circadian.lights import LightSchedule\n",
    "from circadian.models import Forger99, Jewett99, Hannay19, Hannay19TP"
   ]
  },
  {
   "attachments": {},
   "cell_type": "markdown",
   "metadata": {},
   "source": [
    "Light exposure is one of the main factors affecting circadian rhythms. Here we use the `circadian` package to explore the effects of light pulses at different times of the day. We will explore this effect using four different circadian models `Forger99`, `Jewett99`, `Hannay19`, and `Hannay19TP` and compare the results among them."
   ]
  },
  {
   "attachments": {},
   "cell_type": "markdown",
   "metadata": {},
   "source": [
    "# Entraining models to a regular light schedule"
   ]
  },
  {
   "attachments": {},
   "cell_type": "markdown",
   "metadata": {},
   "source": [
    "First, we entrain each model to a regular light schedule to have a baseline to compare to. In `circadian` we do this by"
   ]
  },
  {
   "cell_type": "code",
   "execution_count": null,
   "metadata": {},
   "outputs": [],
   "source": [
    "dt = 0.1 # hours\n",
    "days = 20\n",
    "time = np.arange(0, 24 * days, dt)\n",
    "regular_lux = 500\n",
    "schedule = LightSchedule.Regular(regular_lux, lights_on=8, lights_off=24)\n",
    "light_input = schedule(time)\n",
    "model_list = [Forger99(), Jewett99(), Hannay19(), Hannay19TP()]\n",
    "equilibrium_states = []\n",
    "\n",
    "for model in model_list:\n",
    "    time_eq = np.arange(0, 24 * days, dt)\n",
    "    final_state = model.equilibrate(time_eq, light_input, num_loops=2)\n",
    "    equilibrium_states.append(final_state)"
   ]
  },
  {
   "attachments": {},
   "cell_type": "markdown",
   "metadata": {},
   "source": [
    "# Pulse during the day"
   ]
  },
  {
   "attachments": {},
   "cell_type": "markdown",
   "metadata": {},
   "source": [
    "Next, we can explore how models respond to lights pulse during the bright hours of the day. We can use the `LightSchedule.from_pulse` function to add pulses at different times"
   ]
  },
  {
   "cell_type": "code",
   "execution_count": null,
   "metadata": {},
   "outputs": [],
   "source": [
    "days = 3\n",
    "time = np.arange(0, 24 * days, dt)\n",
    "pulse_num = 6\n",
    "pulse_lux = 1e4\n",
    "pulse_duration = 1 # hour\n",
    "start_values = np.linspace(32, 47, pulse_num)\n",
    "\n",
    "simulation_result = {}\n",
    "\n",
    "for idx,model in enumerate(model_list):\n",
    "    simulation_result[str(model)] = {}\n",
    "    for pulse_start in start_values:\n",
    "        schedule = LightSchedule.Regular(regular_lux, lights_on=8, lights_off=24)\n",
    "        schedule += LightSchedule.from_pulse(pulse_lux, pulse_start, pulse_duration)\n",
    "        light_input = schedule(time)\n",
    "        trajectory = model(time, equilibrium_states[idx], light_input)\n",
    "        simulation_result[str(model)][str(pulse_start)] = {\n",
    "            'light': light_input,\n",
    "            'trajectory': trajectory\n",
    "        }"
   ]
  },
  {
   "cell_type": "code",
   "execution_count": null,
   "metadata": {},
   "outputs": [],
   "source": [
    "#| hide\n",
    "# Generate and save figures\n",
    "time = time / 24.0\n",
    "\n",
    "legend_elements = [plt.Rectangle((0, 0), 1, 1, fc='gray', alpha=0.3, ec='black'),\n",
    "                   plt.Rectangle((0, 0), 1, 1, fc='white', alpha=0.3, ec='black'),\n",
    "                   plt.Rectangle((0, 0), 1, 1, fc='yellow', alpha=0.3, ec='black'),\n",
    "                   plt.Line2D([0], [0], color='tab:blue', lw=1),]\n",
    "\n",
    "for model in model_list:\n",
    "    figsize_factor = 0.8\n",
    "    fig, axs = plt.subplots(pulse_num, 1, sharex=True, figsize=(figsize_factor * 15, figsize_factor * 8))\n",
    "\n",
    "    for idx,start in enumerate(start_values):\n",
    "        light = simulation_result[str(model)][str(start)]['light']\n",
    "        trajectory = simulation_result[str(model)][str(start)]['trajectory']\n",
    "\n",
    "        if str(model) == 'Hannay19':\n",
    "            y = trajectory.states[:, 0] * np.cos(trajectory.states[:, 1])\n",
    "        elif str(model) == 'Hannay19TP':\n",
    "            y = trajectory.states[:, 0] * np.cos(trajectory.states[:, 2])\n",
    "        elif str(model) in ['Forger99', 'Jewett99']:\n",
    "            y = trajectory.states[:, 0]\n",
    "\n",
    "        min_y = 1.5 * min(y)\n",
    "        max_y = 1.5 * max(y)\n",
    "        axs[idx].fill_between(time, min_y, max_y, where=light == 0, color='gray', alpha=0.3, edgecolor='None')\n",
    "        axs[idx].fill_between(time, min_y, max_y, where=light >= pulse_lux-1, color='yellow', alpha=0.3)\n",
    "        axs[idx].plot(time, y)\n",
    "        axs[idx].set_ylim(min_y, max_y)\n",
    "        axs[idx].set_xlim(min(time), max(time)-0.5)\n",
    "        axs[idx].spines['top'].set_visible(False)\n",
    "        axs[idx].set_yticks([])\n",
    "        axs[idx].set_yticklabels([])\n",
    "\n",
    "    axs[-1].set_xlabel('Days', fontsize=13)\n",
    "    axs[-1].set_xticks(np.arange(0, 3, 1))\n",
    "    axs[-1].set_xticklabels(np.arange(0, 3, 1), fontsize=13)\n",
    "    axs[0].legend(legend_elements, ['Darkness (0 lux)', 'Daylight (500 lux)', 'Pulse (10.000 lux)', 'Core body temperature'], \n",
    "                loc='upper left', bbox_to_anchor=(0.05, 1.5), ncols=4, frameon=False, fontsize=11)\n",
    "\n",
    "    fig.subplots_adjust(hspace=-0.1)\n",
    "    fig.savefig(f'00_figs/{str(model)}_day_pulses.png', dpi=300, bbox_inches='tight')\n",
    "    plt.close()"
   ]
  },
  {
   "attachments": {},
   "cell_type": "markdown",
   "metadata": {},
   "source": [
    "::: {.panel-tabset}\n",
    "\n",
    "## Forger99\n",
    "\n",
    "![](00_figs/Forger99_day_pulses.png)\n",
    "\n",
    "## Jewett99\n",
    "\n",
    "![](00_figs/Jewett99_day_pulses.png)\n",
    "\n",
    "## Hannay19\n",
    "\n",
    "![](00_figs/Hannay19_day_pulses.png)\n",
    "\n",
    "## Hannay19TP\n",
    "\n",
    "![](00_figs/Hannay19TP_day_pulses.png)\n",
    "\n",
    ":::"
   ]
  },
  {
   "attachments": {},
   "cell_type": "markdown",
   "metadata": {},
   "source": [
    "We see that light pulses during bright hours don't have a major effect on circadian rhythms. However, this is not the case for light pulses during darkness."
   ]
  },
  {
   "attachments": {},
   "cell_type": "markdown",
   "metadata": {},
   "source": [
    "# Pulse at night"
   ]
  },
  {
   "attachments": {},
   "cell_type": "markdown",
   "metadata": {},
   "source": [
    "Using the same code as above but with different pulse start values"
   ]
  },
  {
   "cell_type": "code",
   "execution_count": null,
   "metadata": {},
   "outputs": [],
   "source": [
    "start_values = np.linspace(24, 31, pulse_num)"
   ]
  },
  {
   "cell_type": "code",
   "execution_count": null,
   "metadata": {},
   "outputs": [],
   "source": [
    "#| hide\n",
    "days = 3\n",
    "time = np.arange(0, 24 * days, dt)\n",
    "pulse_num = 6\n",
    "pulse_lux = 1e4\n",
    "pulse_duration = 1 # hour\n",
    "\n",
    "simulation_result = {}\n",
    "\n",
    "for idx,model in enumerate(model_list):\n",
    "    simulation_result[str(model)] = {}\n",
    "    for pulse_start in start_values:\n",
    "        schedule = LightSchedule.Regular(regular_lux, lights_on=8, lights_off=24)\n",
    "        schedule += LightSchedule.from_pulse(pulse_lux, pulse_start, pulse_duration)\n",
    "        light_input = schedule(time)\n",
    "        trajectory = model(time, equilibrium_states[idx], light_input)\n",
    "        simulation_result[str(model)][str(pulse_start)] = {\n",
    "            'light': light_input,\n",
    "            'trajectory': trajectory\n",
    "        }"
   ]
  },
  {
   "cell_type": "code",
   "execution_count": null,
   "metadata": {},
   "outputs": [],
   "source": [
    "#| hide\n",
    "# Generate and save figures for night pulses\n",
    "time = time / 24.0\n",
    "\n",
    "legend_elements = [plt.Rectangle((0, 0), 1, 1, fc='gray', alpha=0.3, ec='black'),\n",
    "                   plt.Rectangle((0, 0), 1, 1, fc='white', alpha=0.3, ec='black'),\n",
    "                   plt.Rectangle((0, 0), 1, 1, fc='yellow', alpha=0.3, ec='black'),\n",
    "                   plt.Line2D([0], [0], color='tab:blue', lw=1),]\n",
    "\n",
    "for model in model_list:\n",
    "    figsize_factor = 0.8\n",
    "    fig, axs = plt.subplots(pulse_num, 1, sharex=True, figsize=(figsize_factor * 15, figsize_factor * 8))\n",
    "\n",
    "    for idx,start in enumerate(start_values):\n",
    "        light = simulation_result[str(model)][str(start)]['light']\n",
    "        trajectory = simulation_result[str(model)][str(start)]['trajectory']\n",
    "\n",
    "        if str(model) == 'Hannay19':\n",
    "            y = trajectory.states[:, 0] * np.cos(trajectory.states[:, 1])\n",
    "        elif str(model) == 'Hannay19TP':\n",
    "            y = trajectory.states[:, 0] * np.cos(trajectory.states[:, 2])\n",
    "        elif str(model) in ['Forger99', 'Jewett99']:\n",
    "            y = trajectory.states[:, 0]\n",
    "\n",
    "        min_y = 1.5 * min(y)\n",
    "        max_y = 1.5 * max(y)\n",
    "        axs[idx].fill_between(time, min_y, max_y, where=light == 0, color='gray', alpha=0.3, edgecolor='None')\n",
    "        axs[idx].fill_between(time, min_y, max_y, where=light >= pulse_lux-1, color='yellow', alpha=0.3)\n",
    "        axs[idx].plot(time, y)\n",
    "        axs[idx].set_ylim(min_y, max_y)\n",
    "        axs[idx].set_xlim(min(time), max(time)-0.5)\n",
    "        axs[idx].spines['top'].set_visible(False)\n",
    "        axs[idx].set_yticks([])\n",
    "        axs[idx].set_yticklabels([])\n",
    "\n",
    "    axs[-1].set_xlabel('Days', fontsize=13)\n",
    "    axs[-1].set_xticks(np.arange(0, 3, 1))\n",
    "    axs[-1].set_xticklabels(np.arange(0, 3, 1), fontsize=13)\n",
    "    axs[0].legend(legend_elements, ['Darkness (0 lux)', 'Daylight (500 lux)', 'Pulse (10.000 lux)', 'Core body temperature'], \n",
    "                loc='upper left', bbox_to_anchor=(0.05, 1.5), ncols=4, frameon=False, fontsize=11)\n",
    "\n",
    "    fig.subplots_adjust(hspace=-0.1)\n",
    "    fig.savefig(f'00_figs/{str(model)}_night_pulses.png', dpi=300, bbox_inches='tight')\n",
    "    plt.close()"
   ]
  },
  {
   "attachments": {},
   "cell_type": "markdown",
   "metadata": {},
   "source": [
    "gives us the following "
   ]
  },
  {
   "attachments": {},
   "cell_type": "markdown",
   "metadata": {},
   "source": [
    "::: {.panel-tabset}\n",
    "\n",
    "## Forger99\n",
    "\n",
    "![](00_figs/Forger99_night_pulses.png)\n",
    "\n",
    "## Jewett99\n",
    "\n",
    "![](00_figs/Jewett99_night_pulses.png)\n",
    "\n",
    "## Hannay19\n",
    "\n",
    "![](00_figs/Hannay19_night_pulses.png)\n",
    "\n",
    "## Hannay19TP\n",
    "\n",
    "![](00_figs/Hannay19TP_night_pulses.png)\n",
    "\n",
    ":::"
   ]
  },
  {
   "attachments": {},
   "cell_type": "markdown",
   "metadata": {},
   "source": [
    "We see that models are more sensitive to pulses during the dark hours of the day--the sinusoidal signal changes abruptly when the pulse is applied. This reflects an important property of circadian rhythms: their sensitivity to light is dependent on the current phase of the clock. We can calculate how much the phase of the clock changes after a pulse by constructing a phase response curve (PRC)."
   ]
  },
  {
   "attachments": {},
   "cell_type": "markdown",
   "metadata": {},
   "source": [
    "# Building phase response curves"
   ]
  },
  {
   "attachments": {},
   "cell_type": "markdown",
   "metadata": {},
   "source": [
    "WIP"
   ]
  }
 ],
 "metadata": {
  "kernelspec": {
   "display_name": "python3",
   "language": "python",
   "name": "python3"
  }
 },
 "nbformat": 4,
 "nbformat_minor": 2
}
